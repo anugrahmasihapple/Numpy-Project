{
  "nbformat": 4,
  "nbformat_minor": 0,
  "metadata": {
    "colab": {
      "provenance": []
    },
    "kernelspec": {
      "name": "python3",
      "display_name": "Python 3"
    },
    "language_info": {
      "name": "python"
    }
  },
  "cells": [
    {
      "cell_type": "markdown",
      "source": [
        "Load the data\n",
        "\n"
      ],
      "metadata": {
        "id": "-JGpRr-F1kco"
      }
    },
    {
      "cell_type": "code",
      "execution_count": 1,
      "metadata": {
        "id": "KJDZZjgPyNKd"
      },
      "outputs": [],
      "source": [
        "data = \"KAG_Conversion_Data.csv\"\n"
      ]
    },
    {
      "cell_type": "code",
      "source": [
        "import numpy as np\n",
        "data_np = np.genfromtxt(data, delimiter=\",\", skip_header=1,dtype=str)\n",
        "data1_np = np.genfromtxt(data, delimiter=\",\", skip_header=1,dtype=float)"
      ],
      "metadata": {
        "id": "-fqFb2oS1t-o"
      },
      "execution_count": 2,
      "outputs": []
    },
    {
      "cell_type": "code",
      "source": [
        "data_np"
      ],
      "metadata": {
        "colab": {
          "base_uri": "https://localhost:8080/"
        },
        "id": "9CJAz_FC1ysv",
        "outputId": "dee3324b-ac3a-4056-bc2c-0f16425bba6f"
      },
      "execution_count": 3,
      "outputs": [
        {
          "output_type": "execute_result",
          "data": {
            "text/plain": [
              "array([['708746', '916', '103916', ..., '1.429999948', '2', '1'],\n",
              "       ['708749', '916', '103917', ..., '1.820000023', '2', '0'],\n",
              "       ['708771', '916', '103920', ..., '0', '1', '0'],\n",
              "       ...,\n",
              "       ['1314412', '1178', '179979', ..., '40.28999949', '2', '0'],\n",
              "       ['1314414', '1178', '179981', ..., '198.7100005', '8', '2'],\n",
              "       ['1314415', '1178', '179982', ..., '165.6099987', '5', '2']],\n",
              "      dtype='<U11')"
            ]
          },
          "metadata": {},
          "execution_count": 3
        }
      ]
    },
    {
      "cell_type": "markdown",
      "source": [
        "How many unique ad campaigns (xyzcampaignid) does this data contain ? And for how many times was each campaign run ?\n",
        "\n"
      ],
      "metadata": {
        "id": "gA3HTu9j13RZ"
      }
    },
    {
      "cell_type": "code",
      "source": [
        "campaign_id =data_np[:, 1]\n",
        "print(\"No of Unique ad campaigns: \",len(np.unique(campaign_id)))"
      ],
      "metadata": {
        "colab": {
          "base_uri": "https://localhost:8080/"
        },
        "id": "FFvU29XI15st",
        "outputId": "daacdf57-1fcc-4606-d900-3fc812650a14"
      },
      "execution_count": 4,
      "outputs": [
        {
          "output_type": "stream",
          "name": "stdout",
          "text": [
            "No of Unique ad campaigns:  3\n"
          ]
        }
      ]
    },
    {
      "cell_type": "markdown",
      "source": [
        "What are the age groups that were targeted through these ad campaigns?\n",
        "\n"
      ],
      "metadata": {
        "id": "nlZZ8lUw35Db"
      }
    },
    {
      "cell_type": "code",
      "source": [
        "age_arr = data_np[:, 3]\n",
        "print(np.unique(age_arr))"
      ],
      "metadata": {
        "colab": {
          "base_uri": "https://localhost:8080/"
        },
        "id": "TjUX_0u737fi",
        "outputId": "a83b9756-b241-4a94-9a72-d9e1ab8f3e59"
      },
      "execution_count": 5,
      "outputs": [
        {
          "output_type": "stream",
          "name": "stdout",
          "text": [
            "['30-34' '35-39' '40-44' '45-49']\n"
          ]
        }
      ]
    },
    {
      "cell_type": "code",
      "source": [
        "amt_spent = data1_np[:, 8]\n",
        "print(\"Average amount spent on Ads: \", np.mean(amt_spent))\n",
        "print(\"Minimum amount spent on Ads: \", np.min(amt_spent))\n",
        "print(\"maximum amount spent on Ads: \", np.max(amt_spent))"
      ],
      "metadata": {
        "colab": {
          "base_uri": "https://localhost:8080/"
        },
        "id": "n5Z_tUK63-us",
        "outputId": "b86f6201-5585-4bc6-cf1a-58770701a333"
      },
      "execution_count": 6,
      "outputs": [
        {
          "output_type": "stream",
          "name": "stdout",
          "text": [
            "Average amount spent on Ads:  51.36065613141295\n",
            "Minimum amount spent on Ads:  0.0\n",
            "maximum amount spent on Ads:  639.9499981\n"
          ]
        }
      ]
    },
    {
      "cell_type": "markdown",
      "source": [
        "What is the id of the ad having the maximum number of clicks ?\n",
        "\n"
      ],
      "metadata": {
        "id": "xlrHIswj4EWl"
      }
    },
    {
      "cell_type": "code",
      "source": [
        "# Id of the particular ad having max clicks\n",
        "\n",
        "clicks_ar = data1_np[:, 7]\n",
        "id_ads = data_np[:, 0]\n",
        "\n",
        "m = np.max(clicks_ar)\n",
        "idx = list(clicks_ar).index(m) #index number of maximum clicks\n",
        "print(clicks_ar[idx]) #verifying the max value using the index no\n",
        "print(\"Ad Id having max number of clicks: \", id_ads[idx]) #printing out the ad id of having max clicks"
      ],
      "metadata": {
        "colab": {
          "base_uri": "https://localhost:8080/"
        },
        "id": "1b9eChfD4B8i",
        "outputId": "50f241bc-cf91-41be-df68-ecaa3aee4f6b"
      },
      "execution_count": 7,
      "outputs": [
        {
          "output_type": "stream",
          "name": "stdout",
          "text": [
            "421.0\n",
            "Ad Id having max number of clicks:  1121814\n"
          ]
        }
      ]
    },
    {
      "cell_type": "markdown",
      "source": [
        "How many people bought the product after seeing the ad with most clicks? Is that the maximum number of purchases in this dataset?\n",
        "\n"
      ],
      "metadata": {
        "id": "HxNr2OoR4LdR"
      }
    },
    {
      "cell_type": "code",
      "source": [
        "app_cns = data1_np[:, 10]\n",
        "print(\"Number of people who purchased the product after seeing the add with max clicks: \", app_cns[idx])\n",
        "print(\"Maximum number of purchases in this dataset: \", np.max(app_cns))"
      ],
      "metadata": {
        "colab": {
          "base_uri": "https://localhost:8080/"
        },
        "id": "F5QkGAzN4Ndx",
        "outputId": "530da9d1-bc53-46ae-8422-d0cc51220412"
      },
      "execution_count": 8,
      "outputs": [
        {
          "output_type": "stream",
          "name": "stdout",
          "text": [
            "Number of people who purchased the product after seeing the add with max clicks:  13.0\n",
            "Maximum number of purchases in this dataset:  21.0\n"
          ]
        }
      ]
    },
    {
      "cell_type": "markdown",
      "source": [
        "Find the details of the product having maximum number of purchases\n",
        "\n"
      ],
      "metadata": {
        "id": "1Ru_Obdf4RC7"
      }
    },
    {
      "cell_type": "code",
      "source": [
        "m_pur = np.max(app_cns)\n",
        "idx_pur = list(app_cns).index(m_pur) #index no of the max purchase\n",
        "r = data1_np[idx_pur]\n",
        "r_str = data_np[idx_pur]\n",
        "print(\"Details of the products having maximum purchases\")\n",
        "print(\"unique ID for the ad: \", r[0])\n",
        "print(\"Ad campaign ID: \", r[1])\n",
        "print(\"Facebook Campaign Id: \", r[2])\n",
        "print(\"Age range of the person to whom the ad is shown: \", r_str[3])\n",
        "print(\"Gender of the person to whom the add is shown: \", r_str[4])\n",
        "print(\"A code specifying the category to which the person’s interest belongs: \", r[5])\n",
        "print(\"The number of times the ad was shown: \", r[6])\n",
        "print(\"Number of clicks on for that ad: \", r[7])\n",
        "print(\"Amount paid by the company to Facebook, to show that ad: \", r[8])\n",
        "print(\"Total number of people who enquired about the product after seeing the ad: \", r[9])\n",
        "print(\"Total number of people who bought the product after seeing the ad\", r[10])"
      ],
      "metadata": {
        "colab": {
          "base_uri": "https://localhost:8080/"
        },
        "id": "3a0vIM3I4S5k",
        "outputId": "d5a6f2f9-b74b-4709-ad8c-2087612f7e98"
      },
      "execution_count": 9,
      "outputs": [
        {
          "output_type": "stream",
          "name": "stdout",
          "text": [
            "Details of the products having maximum purchases\n",
            "unique ID for the ad:  1121104.0\n",
            "Ad campaign ID:  1178.0\n",
            "Facebook Campaign Id:  144533.0\n",
            "Age range of the person to whom the ad is shown:  30-34\n",
            "Gender of the person to whom the add is shown:  M\n",
            "A code specifying the category to which the person’s interest belongs:  16.0\n",
            "The number of times the ad was shown:  2080666.0\n",
            "Number of clicks on for that ad:  202.0\n",
            "Amount paid by the company to Facebook, to show that ad:  360.1500015\n",
            "Total number of people who enquired about the product after seeing the ad:  40.0\n",
            "Total number of people who bought the product after seeing the ad 21.0\n"
          ]
        }
      ]
    }
  ]
}